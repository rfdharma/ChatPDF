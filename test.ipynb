{
 "cells": [
  {
   "cell_type": "markdown",
   "metadata": {},
   "source": [
    "# Archived"
   ]
  },
  {
   "cell_type": "code",
   "execution_count": 9,
   "metadata": {},
   "outputs": [
    {
     "data": {
      "text/html": [
       "<div>\n",
       "<style scoped>\n",
       "    .dataframe tbody tr th:only-of-type {\n",
       "        vertical-align: middle;\n",
       "    }\n",
       "\n",
       "    .dataframe tbody tr th {\n",
       "        vertical-align: top;\n",
       "    }\n",
       "\n",
       "    .dataframe thead th {\n",
       "        text-align: right;\n",
       "    }\n",
       "</style>\n",
       "<table border=\"1\" class=\"dataframe\">\n",
       "  <thead>\n",
       "    <tr style=\"text-align: right;\">\n",
       "      <th></th>\n",
       "      <th>id</th>\n",
       "      <th>claim</th>\n",
       "      <th>evidence</th>\n",
       "      <th>cited_doc_ids</th>\n",
       "    </tr>\n",
       "  </thead>\n",
       "  <tbody>\n",
       "    <tr>\n",
       "      <th>0</th>\n",
       "      <td>1</td>\n",
       "      <td>0-dimensional biomaterials show inductive prop...</td>\n",
       "      <td>{}</td>\n",
       "      <td>[31715818]</td>\n",
       "    </tr>\n",
       "    <tr>\n",
       "      <th>1</th>\n",
       "      <td>3</td>\n",
       "      <td>1,000 genomes project enables mapping of genet...</td>\n",
       "      <td>{'14717500': [{'sentences': [2, 5], 'label': '...</td>\n",
       "      <td>[14717500]</td>\n",
       "    </tr>\n",
       "    <tr>\n",
       "      <th>2</th>\n",
       "      <td>5</td>\n",
       "      <td>1/2000 in UK have abnormal PrP positivity.</td>\n",
       "      <td>{'13734012': [{'sentences': [4], 'label': 'SUP...</td>\n",
       "      <td>[13734012]</td>\n",
       "    </tr>\n",
       "    <tr>\n",
       "      <th>3</th>\n",
       "      <td>13</td>\n",
       "      <td>5% of perinatal mortality is due to low birth ...</td>\n",
       "      <td>{}</td>\n",
       "      <td>[1606628]</td>\n",
       "    </tr>\n",
       "    <tr>\n",
       "      <th>4</th>\n",
       "      <td>36</td>\n",
       "      <td>A deficiency of vitamin B12 increases blood le...</td>\n",
       "      <td>{}</td>\n",
       "      <td>[5152028, 11705328]</td>\n",
       "    </tr>\n",
       "    <tr>\n",
       "      <th>...</th>\n",
       "      <td>...</td>\n",
       "      <td>...</td>\n",
       "      <td>...</td>\n",
       "      <td>...</td>\n",
       "    </tr>\n",
       "    <tr>\n",
       "      <th>295</th>\n",
       "      <td>1379</td>\n",
       "      <td>Women with a higher birth weight are more like...</td>\n",
       "      <td>{'16322674': [{'sentences': [5], 'label': 'SUP...</td>\n",
       "      <td>[16322674, 27123743, 23557241, 17450673]</td>\n",
       "    </tr>\n",
       "    <tr>\n",
       "      <th>296</th>\n",
       "      <td>1382</td>\n",
       "      <td>aPKCz causes tumour enhancement by affecting g...</td>\n",
       "      <td>{'17755060': [{'sentences': [3], 'label': 'CON...</td>\n",
       "      <td>[17755060]</td>\n",
       "    </tr>\n",
       "    <tr>\n",
       "      <th>297</th>\n",
       "      <td>1385</td>\n",
       "      <td>cSMAC formation enhances weak ligand signalling.</td>\n",
       "      <td>{'306006': [{'sentences': [4], 'label': 'SUPPO...</td>\n",
       "      <td>[306006]</td>\n",
       "    </tr>\n",
       "    <tr>\n",
       "      <th>298</th>\n",
       "      <td>1389</td>\n",
       "      <td>mTORC2 regulates intracellular cysteine levels...</td>\n",
       "      <td>{'23895668': [{'sentences': [2, 3], 'label': '...</td>\n",
       "      <td>[23895668]</td>\n",
       "    </tr>\n",
       "    <tr>\n",
       "      <th>299</th>\n",
       "      <td>1395</td>\n",
       "      <td>p16INK4A accumulation is  linked to an abnorma...</td>\n",
       "      <td>{}</td>\n",
       "      <td>[17717391]</td>\n",
       "    </tr>\n",
       "  </tbody>\n",
       "</table>\n",
       "<p>300 rows × 4 columns</p>\n",
       "</div>"
      ],
      "text/plain": [
       "       id                                              claim  \\\n",
       "0       1  0-dimensional biomaterials show inductive prop...   \n",
       "1       3  1,000 genomes project enables mapping of genet...   \n",
       "2       5         1/2000 in UK have abnormal PrP positivity.   \n",
       "3      13  5% of perinatal mortality is due to low birth ...   \n",
       "4      36  A deficiency of vitamin B12 increases blood le...   \n",
       "..    ...                                                ...   \n",
       "295  1379  Women with a higher birth weight are more like...   \n",
       "296  1382  aPKCz causes tumour enhancement by affecting g...   \n",
       "297  1385   cSMAC formation enhances weak ligand signalling.   \n",
       "298  1389  mTORC2 regulates intracellular cysteine levels...   \n",
       "299  1395  p16INK4A accumulation is  linked to an abnorma...   \n",
       "\n",
       "                                              evidence  \\\n",
       "0                                                   {}   \n",
       "1    {'14717500': [{'sentences': [2, 5], 'label': '...   \n",
       "2    {'13734012': [{'sentences': [4], 'label': 'SUP...   \n",
       "3                                                   {}   \n",
       "4                                                   {}   \n",
       "..                                                 ...   \n",
       "295  {'16322674': [{'sentences': [5], 'label': 'SUP...   \n",
       "296  {'17755060': [{'sentences': [3], 'label': 'CON...   \n",
       "297  {'306006': [{'sentences': [4], 'label': 'SUPPO...   \n",
       "298  {'23895668': [{'sentences': [2, 3], 'label': '...   \n",
       "299                                                 {}   \n",
       "\n",
       "                                cited_doc_ids  \n",
       "0                                  [31715818]  \n",
       "1                                  [14717500]  \n",
       "2                                  [13734012]  \n",
       "3                                   [1606628]  \n",
       "4                         [5152028, 11705328]  \n",
       "..                                        ...  \n",
       "295  [16322674, 27123743, 23557241, 17450673]  \n",
       "296                                [17755060]  \n",
       "297                                  [306006]  \n",
       "298                                [23895668]  \n",
       "299                                [17717391]  \n",
       "\n",
       "[300 rows x 4 columns]"
      ]
     },
     "execution_count": 9,
     "metadata": {},
     "output_type": "execute_result"
    }
   ],
   "source": [
    "import pandas as pd\n",
    "claims_dev = pd.read_json(path_or_buf=\"data/claims_dev.jsonl\", lines=True)\n",
    "claims_dev"
   ]
  },
  {
   "cell_type": "code",
   "execution_count": 10,
   "metadata": {},
   "outputs": [
    {
     "data": {
      "text/plain": [
       "'A high microerythrocyte count raises vulnerability to severe anemia in homozygous alpha (+)- thalassemia trait subjects.'"
      ]
     },
     "execution_count": 10,
     "metadata": {},
     "output_type": "execute_result"
    }
   ],
   "source": [
    "idx = 5\n",
    "claims_dev[\"claim\"].iloc[idx]"
   ]
  },
  {
   "cell_type": "code",
   "execution_count": 11,
   "metadata": {},
   "outputs": [
    {
     "data": {
      "text/plain": [
       "{'18174210': [{'sentences': [1, 9], 'label': 'CONTRADICT'},\n",
       "  {'sentences': [10], 'label': 'CONTRADICT'}]}"
      ]
     },
     "execution_count": 11,
     "metadata": {},
     "output_type": "execute_result"
    }
   ],
   "source": [
    "claims_dev[\"evidence\"].iloc[idx]"
   ]
  },
  {
   "cell_type": "code",
   "execution_count": 12,
   "metadata": {},
   "outputs": [
    {
     "data": {
      "text/plain": [
       "[18174210]"
      ]
     },
     "execution_count": 12,
     "metadata": {},
     "output_type": "execute_result"
    }
   ],
   "source": [
    "claims_dev[\"cited_doc_ids\"].iloc[idx]"
   ]
  },
  {
   "cell_type": "code",
   "execution_count": 13,
   "metadata": {},
   "outputs": [
    {
     "data": {
      "text/html": [
       "<div>\n",
       "<style scoped>\n",
       "    .dataframe tbody tr th:only-of-type {\n",
       "        vertical-align: middle;\n",
       "    }\n",
       "\n",
       "    .dataframe tbody tr th {\n",
       "        vertical-align: top;\n",
       "    }\n",
       "\n",
       "    .dataframe thead th {\n",
       "        text-align: right;\n",
       "    }\n",
       "</style>\n",
       "<table border=\"1\" class=\"dataframe\">\n",
       "  <thead>\n",
       "    <tr style=\"text-align: right;\">\n",
       "      <th></th>\n",
       "      <th>doc_id</th>\n",
       "      <th>title</th>\n",
       "      <th>abstract</th>\n",
       "      <th>structured</th>\n",
       "    </tr>\n",
       "  </thead>\n",
       "  <tbody>\n",
       "    <tr>\n",
       "      <th>0</th>\n",
       "      <td>4983</td>\n",
       "      <td>Microstructural development of human newborn c...</td>\n",
       "      <td>[Alterations of the architecture of cerebral w...</td>\n",
       "      <td>False</td>\n",
       "    </tr>\n",
       "    <tr>\n",
       "      <th>1</th>\n",
       "      <td>5836</td>\n",
       "      <td>Induction of myelodysplasia by myeloid-derived...</td>\n",
       "      <td>[Myelodysplastic syndromes (MDS) are age-depen...</td>\n",
       "      <td>False</td>\n",
       "    </tr>\n",
       "    <tr>\n",
       "      <th>2</th>\n",
       "      <td>7912</td>\n",
       "      <td>BC1 RNA, the transcript from a master gene for...</td>\n",
       "      <td>[ID elements are short interspersed elements (...</td>\n",
       "      <td>False</td>\n",
       "    </tr>\n",
       "    <tr>\n",
       "      <th>3</th>\n",
       "      <td>18670</td>\n",
       "      <td>The DNA Methylome of Human Peripheral Blood Mo...</td>\n",
       "      <td>[DNA methylation plays an important role in bi...</td>\n",
       "      <td>False</td>\n",
       "    </tr>\n",
       "    <tr>\n",
       "      <th>4</th>\n",
       "      <td>19238</td>\n",
       "      <td>The human myelin basic protein gene is include...</td>\n",
       "      <td>[Two human Golli (for gene expressed in the ol...</td>\n",
       "      <td>False</td>\n",
       "    </tr>\n",
       "  </tbody>\n",
       "</table>\n",
       "</div>"
      ],
      "text/plain": [
       "   doc_id                                              title  \\\n",
       "0    4983  Microstructural development of human newborn c...   \n",
       "1    5836  Induction of myelodysplasia by myeloid-derived...   \n",
       "2    7912  BC1 RNA, the transcript from a master gene for...   \n",
       "3   18670  The DNA Methylome of Human Peripheral Blood Mo...   \n",
       "4   19238  The human myelin basic protein gene is include...   \n",
       "\n",
       "                                            abstract  structured  \n",
       "0  [Alterations of the architecture of cerebral w...       False  \n",
       "1  [Myelodysplastic syndromes (MDS) are age-depen...       False  \n",
       "2  [ID elements are short interspersed elements (...       False  \n",
       "3  [DNA methylation plays an important role in bi...       False  \n",
       "4  [Two human Golli (for gene expressed in the ol...       False  "
      ]
     },
     "execution_count": 13,
     "metadata": {},
     "output_type": "execute_result"
    }
   ],
   "source": [
    "# Corpus\n",
    "corpus = pd.read_json(path_or_buf=\"data/corpus.jsonl\", lines=True)\n",
    "corpus.head()"
   ]
  },
  {
   "cell_type": "code",
   "execution_count": 14,
   "metadata": {},
   "outputs": [
    {
     "data": {
      "text/plain": [
       "array(['Prevalent abnormal prion protein in human appendixes after bovine spongiform encephalopathy epizootic: large scale survey'],\n",
       "      dtype=object)"
      ]
     },
     "execution_count": 14,
     "metadata": {},
     "output_type": "execute_result"
    }
   ],
   "source": [
    "corpus[corpus[\"doc_id\"] == 13734012][\"title\"].values"
   ]
  },
  {
   "cell_type": "code",
   "execution_count": 15,
   "metadata": {},
   "outputs": [
    {
     "name": "stdout",
     "output_type": "stream",
     "text": [
      "OBJECTIVES To carry out a further survey of archived appendix samples to understand better the differences between existing estimates of the prevalence of subclinical infection with prions after the bovine spongiform encephalopathy epizootic and to see whether a broader birth cohort was affected, and to understand better the implications for the management of blood and blood products and for the handling of surgical instruments.   \n",
      "\n",
      "DESIGN Irreversibly unlinked and anonymised large scale survey of archived appendix samples.   \n",
      "\n",
      "SETTING Archived appendix samples from the pathology departments of 41 UK hospitals participating in the earlier survey, and additional hospitals in regions with lower levels of participation in that survey.   \n",
      "SAMPLE 32,441 archived appendix samples fixed in formalin and embedded in paraffin and tested for the presence of abnormal prion protein (PrP).   \n",
      "\n",
      "RESULTS Of the 32,441 appendix samples 16 were positive for abnormal PrP, indicating an overall prevalence of 493 per million population (95% confidence interval 282 to 801 per million).\n",
      "The prevalence in those born in 1941-60 (733 per million, 269 to 1596 per million) did not differ significantly from those born between 1961 and 1985 (412 per million, 198 to 758 per million) and was similar in both sexes and across the three broad geographical areas sampled.\n",
      "Genetic testing of the positive specimens for the genotype at PRNP codon 129 revealed a high proportion that were valine homozygous compared with the frequency in the normal population, and in stark contrast with confirmed clinical cases of vCJD, all of which were methionine homozygous at PRNP codon 129.   \n",
      "\n",
      "CONCLUSIONS This study corroborates previous studies and suggests a high prevalence of infection with abnormal PrP, indicating vCJD carrier status in the population compared with the 177 vCJD cases to date.\n",
      "These findings have important implications for the management of blood and blood products and for the handling of surgical instruments.\n"
     ]
    }
   ],
   "source": [
    "for s in corpus[corpus[\"doc_id\"] == 13734012][\"abstract\"].iloc[0]:\n",
    "    print(s)"
   ]
  },
  {
   "cell_type": "code",
   "execution_count": 16,
   "metadata": {},
   "outputs": [
    {
     "data": {
      "text/plain": [
       "(5183, Index(['doc_id', 'title', 'abstract', 'structured'], dtype='object'))"
      ]
     },
     "execution_count": 16,
     "metadata": {},
     "output_type": "execute_result"
    }
   ],
   "source": [
    "len(corpus), corpus.columns"
   ]
  },
  {
   "cell_type": "code",
   "execution_count": 17,
   "metadata": {},
   "outputs": [],
   "source": [
    "import numpy as np\n",
    "import tiktoken\n",
    "encoder = tiktoken.encoding_for_model(\"text-embedding-ada-002\")\n",
    "\n",
    "len_tokens = list()\n",
    "for i in range(len(corpus)):\n",
    "    text = \"\"\n",
    "    for s in corpus[\"abstract\"].iloc[i]:\n",
    "        text += s + \" \"\n",
    "\n",
    "    tokens = len(encoder.encode(text))\n",
    "    len_tokens.append(tokens)"
   ]
  },
  {
   "cell_type": "code",
   "execution_count": 19,
   "metadata": {},
   "outputs": [
    {
     "data": {
      "text/plain": [
       "0.15598320000000002"
      ]
     },
     "execution_count": 19,
     "metadata": {},
     "output_type": "execute_result"
    }
   ],
   "source": [
    "np.array(len_tokens).sum() * (0.0001 / 1000)"
   ]
  },
  {
   "cell_type": "code",
   "execution_count": 20,
   "metadata": {},
   "outputs": [],
   "source": [
    "train = pd.read_json(\"data/claims_train.jsonl\", lines=True)\n",
    "\n",
    "ids = list()\n",
    "banyak_kontra = 0\n",
    "for i in range(len(train)):\n",
    "    doc_ids = train[\"evidence\"].iloc[i].keys()\n",
    "\n",
    "    labels = list()\n",
    "    for evid in doc_ids:\n",
    "        for j in range(len(train[\"evidence\"].iloc[i][evid])):\n",
    "            l = train[\"evidence\"].iloc[i][evid][j][\"label\"]\n",
    "            labels.append(l)\n",
    "        \n",
    "        if \"CONTRADICT\" not in labels:\n",
    "            ids.append(i)\n",
    "        else:\n",
    "            banyak_kontra += 1"
   ]
  },
  {
   "cell_type": "code",
   "execution_count": 21,
   "metadata": {},
   "outputs": [],
   "source": [
    "testing_data = train.iloc[ids]"
   ]
  },
  {
   "cell_type": "code",
   "execution_count": 19,
   "metadata": {},
   "outputs": [],
   "source": [
    "# !pip install pinecone-client -qq"
   ]
  },
  {
   "cell_type": "code",
   "execution_count": 25,
   "metadata": {},
   "outputs": [],
   "source": [
    "import pinecone      \n",
    "from langchain.vectorstores import Pinecone\n",
    "from langchain.embeddings.openai import OpenAIEmbeddings\n",
    "\n",
    "pinecone.init(      \n",
    "\tapi_key='f09dbe82-3f3a-4edb-8360-2ae2de01603d',      \n",
    "\tenvironment='gcp-starter'      \n",
    ")      \n",
    "index = pinecone.Index('scifact')\n",
    "embedder = OpenAIEmbeddings()"
   ]
  },
  {
   "cell_type": "code",
   "execution_count": 31,
   "metadata": {},
   "outputs": [],
   "source": [
    "abstracts = list()\n",
    "\n",
    "for a in corpus[\"abstract\"]:\n",
    "    text = \"\"\n",
    "    for s in a:\n",
    "        text += s + \" \"\n",
    "    abstracts.append(text)"
   ]
  },
  {
   "cell_type": "code",
   "execution_count": 53,
   "metadata": {},
   "outputs": [],
   "source": [
    "embeddings = embedder.embed_documents(abstracts)"
   ]
  },
  {
   "cell_type": "code",
   "execution_count": 109,
   "metadata": {},
   "outputs": [],
   "source": [
    "vectors = list()\n",
    "for i in range(len(corpus)):\n",
    "# for i in range(5):\n",
    "    vectors.append(\n",
    "        {\n",
    "        \"id\" : f\"ABS{str(i)}\",\n",
    "        \"values\" : embeddings[i],\n",
    "        \"metadata\" : {\n",
    "            \"doc_id\" : str(corpus[\"doc_id\"].iloc[i]),\n",
    "            \"title\" : corpus[\"title\"].iloc[i],\n",
    "            # \"text\" : abstracts[i]\n",
    "        }\n",
    "        }\n",
    "    )"
   ]
  },
  {
   "cell_type": "code",
   "execution_count": null,
   "metadata": {},
   "outputs": [],
   "source": [
    "upsert_response = index.upsert(vectors=vectors)"
   ]
  },
  {
   "cell_type": "code",
   "execution_count": 87,
   "metadata": {},
   "outputs": [
    {
     "data": {
      "text/plain": [
       "{'upserted_count': 370}"
      ]
     },
     "execution_count": 87,
     "metadata": {},
     "output_type": "execute_result"
    }
   ],
   "source": [
    "upsert_response"
   ]
  },
  {
   "cell_type": "code",
   "execution_count": 88,
   "metadata": {},
   "outputs": [
    {
     "data": {
      "text/plain": [
       "{'dimension': 1536,\n",
       " 'index_fullness': 0.0037,\n",
       " 'namespaces': {'': {'vector_count': 370}},\n",
       " 'total_vector_count': 370}"
      ]
     },
     "execution_count": 88,
     "metadata": {},
     "output_type": "execute_result"
    }
   ],
   "source": [
    "index.describe_index_stats()"
   ]
  },
  {
   "cell_type": "code",
   "execution_count": 73,
   "metadata": {},
   "outputs": [],
   "source": [
    "from langchain.vectorstores import Pinecone\n",
    "\n",
    "text_field = \"text\"\n",
    "\n",
    "# switch back to normal index for langchain\n",
    "index = pinecone.Index(\"scifact\")\n",
    "\n",
    "vectorstore = Pinecone(\n",
    "    index, embedder, text_field\n",
    ")\n",
    "\n",
    "retriever = vectorstore.as_retriever()"
   ]
  },
  {
   "cell_type": "code",
   "execution_count": 75,
   "metadata": {},
   "outputs": [],
   "source": [
    "from langchain.llms import OpenAI\n",
    "from langchain.callbacks import get_openai_callback\n",
    "\n",
    "llm = OpenAI()"
   ]
  },
  {
   "cell_type": "code",
   "execution_count": 76,
   "metadata": {},
   "outputs": [
    {
     "name": "stderr",
     "output_type": "stream",
     "text": [
      "Found document with no `text` key. Skipping.\n",
      "Found document with no `text` key. Skipping.\n",
      "Found document with no `text` key. Skipping.\n",
      "Found document with no `text` key. Skipping.\n",
      "Found document with no `text` key. Skipping.\n",
      "Found document with no `text` key. Skipping.\n",
      "Found document with no `text` key. Skipping.\n",
      "Found document with no `text` key. Skipping.\n",
      "Found document with no `text` key. Skipping.\n",
      "Found document with no `text` key. Skipping.\n",
      "Found document with no `text` key. Skipping.\n",
      "Found document with no `text` key. Skipping.\n"
     ]
    },
    {
     "data": {
      "text/plain": [
       "Tokens Used: 164\n",
       "\tPrompt Tokens: 108\n",
       "\tCompletion Tokens: 56\n",
       "Successful Requests: 1\n",
       "Total Cost (USD): $0.00328"
      ]
     },
     "execution_count": 76,
     "metadata": {},
     "output_type": "execute_result"
    }
   ],
   "source": [
    "# Multiquery Retriever\n",
    "from langchain.retrievers.multi_query import MultiQueryRetriever\n",
    "\n",
    "query = testing_data[\"claim\"].iloc[0]\n",
    "\n",
    "retriever_from_llm = MultiQueryRetriever.from_llm(\n",
    "    retriever=retriever, llm=llm\n",
    ")\n",
    "with get_openai_callback() as cb:\n",
    "    contexts = retriever_from_llm.get_relevant_documents(query=query, k=3)\n",
    "cb"
   ]
  },
  {
   "cell_type": "code",
   "execution_count": 3,
   "metadata": {},
   "outputs": [],
   "source": [
    "from langchain.vectorstores import Chroma\n",
    "import chromadb"
   ]
  },
  {
   "cell_type": "code",
   "execution_count": null,
   "metadata": {},
   "outputs": [],
   "source": [
    "chroma_client = chromadb.PersistentClient()\n",
    "collection = chroma_client.create_collection(name=\"scifact_benchmark\")"
   ]
  },
  {
   "cell_type": "code",
   "execution_count": 52,
   "metadata": {},
   "outputs": [
    {
     "data": {
      "text/html": [
       "<div>\n",
       "<style scoped>\n",
       "    .dataframe tbody tr th:only-of-type {\n",
       "        vertical-align: middle;\n",
       "    }\n",
       "\n",
       "    .dataframe tbody tr th {\n",
       "        vertical-align: top;\n",
       "    }\n",
       "\n",
       "    .dataframe thead th {\n",
       "        text-align: right;\n",
       "    }\n",
       "</style>\n",
       "<table border=\"1\" class=\"dataframe\">\n",
       "  <thead>\n",
       "    <tr style=\"text-align: right;\">\n",
       "      <th></th>\n",
       "      <th>doc_id</th>\n",
       "      <th>title</th>\n",
       "      <th>abstract</th>\n",
       "      <th>structured</th>\n",
       "    </tr>\n",
       "  </thead>\n",
       "  <tbody>\n",
       "    <tr>\n",
       "      <th>4678</th>\n",
       "      <td>39462488</td>\n",
       "      <td>Replisome stalling and stabilization at CGG re...</td>\n",
       "      <td>[Expanded CGG repeats cause chromosomal fragil...</td>\n",
       "      <td>False</td>\n",
       "    </tr>\n",
       "    <tr>\n",
       "      <th>1432</th>\n",
       "      <td>7975937</td>\n",
       "      <td>Cyclooxygenase-Dependent Tumor Growth through ...</td>\n",
       "      <td>[The mechanisms by which melanoma and other ca...</td>\n",
       "      <td>False</td>\n",
       "    </tr>\n",
       "    <tr>\n",
       "      <th>410</th>\n",
       "      <td>2211868</td>\n",
       "      <td>Epidemiological expansion, structural studies,...</td>\n",
       "      <td>[β-Lactamase evolution presents to the infecti...</td>\n",
       "      <td>False</td>\n",
       "    </tr>\n",
       "    <tr>\n",
       "      <th>3869</th>\n",
       "      <td>26079071</td>\n",
       "      <td>Crizotinib in ROS1-rearranged non-small-cell l...</td>\n",
       "      <td>[BACKGROUND Chromosomal rearrangements of the ...</td>\n",
       "      <td>True</td>\n",
       "    </tr>\n",
       "    <tr>\n",
       "      <th>5068</th>\n",
       "      <td>67787658</td>\n",
       "      <td>Cycling Quiescence in Temozolomide Resistant G...</td>\n",
       "      <td>[Glioblastoma multiforme (GBM) is a fatal mali...</td>\n",
       "      <td>False</td>\n",
       "    </tr>\n",
       "  </tbody>\n",
       "</table>\n",
       "</div>"
      ],
      "text/plain": [
       "        doc_id                                              title  \\\n",
       "4678  39462488  Replisome stalling and stabilization at CGG re...   \n",
       "1432   7975937  Cyclooxygenase-Dependent Tumor Growth through ...   \n",
       "410    2211868  Epidemiological expansion, structural studies,...   \n",
       "3869  26079071  Crizotinib in ROS1-rearranged non-small-cell l...   \n",
       "5068  67787658  Cycling Quiescence in Temozolomide Resistant G...   \n",
       "\n",
       "                                               abstract  structured  \n",
       "4678  [Expanded CGG repeats cause chromosomal fragil...       False  \n",
       "1432  [The mechanisms by which melanoma and other ca...       False  \n",
       "410   [β-Lactamase evolution presents to the infecti...       False  \n",
       "3869  [BACKGROUND Chromosomal rearrangements of the ...        True  \n",
       "5068  [Glioblastoma multiforme (GBM) is a fatal mali...       False  "
      ]
     },
     "execution_count": 52,
     "metadata": {},
     "output_type": "execute_result"
    }
   ],
   "source": [
    "sample_corpus = corpus.sample(5, random_state=42)\n",
    "sample_corpus"
   ]
  },
  {
   "cell_type": "code",
   "execution_count": 53,
   "metadata": {},
   "outputs": [
    {
     "data": {
      "text/plain": [
       "5"
      ]
     },
     "execution_count": 53,
     "metadata": {},
     "output_type": "execute_result"
    }
   ],
   "source": [
    "from langchain.embeddings.openai import OpenAIEmbeddings\n",
    "from langchain.callbacks import get_openai_callback\n",
    "\n",
    "embedder = OpenAIEmbeddings()\n",
    "\n",
    "abstracts = list()\n",
    "\n",
    "for a in sample_corpus[\"abstract\"]:\n",
    "    text = \"\"\n",
    "    for s in a:\n",
    "        text += s + \" \"\n",
    "    abstracts.append(text)\n",
    "len(abstracts)"
   ]
  },
  {
   "cell_type": "code",
   "execution_count": 55,
   "metadata": {},
   "outputs": [],
   "source": [
    "embeddings = embedder.embed_documents(abstracts)"
   ]
  },
  {
   "cell_type": "code",
   "execution_count": 56,
   "metadata": {},
   "outputs": [
    {
     "data": {
      "text/plain": [
       "([{'doc_id': '39462488',\n",
       "   'title': 'Replisome stalling and stabilization at CGG repeats, which are responsible for chromosomal fragility'},\n",
       "  {'doc_id': '7975937',\n",
       "   'title': 'Cyclooxygenase-Dependent Tumor Growth through Evasion of Immunity'}],\n",
       " ['abs0', 'abs1'])"
      ]
     },
     "execution_count": 56,
     "metadata": {},
     "output_type": "execute_result"
    }
   ],
   "source": [
    "metadatas = list()\n",
    "for i in range(len(sample_corpus)):\n",
    "    metadatas.append({\n",
    "        \"doc_id\" : str(sample_corpus[\"doc_id\"].iloc[i]),\n",
    "        \"title\": sample_corpus[\"title\"].iloc[i]\n",
    "    })\n",
    "\n",
    "ids = [f\"abs{str(i)}\" for i in range(len(sample_corpus))]\n",
    "metadatas[:2], ids[:2]"
   ]
  },
  {
   "cell_type": "code",
   "execution_count": 57,
   "metadata": {},
   "outputs": [],
   "source": [
    "collection.add(\n",
    "    embeddings=embeddings,\n",
    "    documents=abstracts,\n",
    "    metadatas=metadatas,\n",
    "    ids=ids\n",
    ")"
   ]
  },
  {
   "cell_type": "code",
   "execution_count": 59,
   "metadata": {},
   "outputs": [],
   "source": [
    "langchain_chroma = Chroma(\n",
    "    client=chroma_client,\n",
    "    collection_name=\"scifact_benchmark\",\n",
    "    embedding_function=embedder,\n",
    ")"
   ]
  },
  {
   "cell_type": "code",
   "execution_count": 60,
   "metadata": {},
   "outputs": [
    {
     "name": "stdout",
     "output_type": "stream",
     "text": [
      "There are 5 in the collection\n"
     ]
    }
   ],
   "source": [
    "print(\"There are\", langchain_chroma._collection.count(), \"in the collection\")"
   ]
  },
  {
   "cell_type": "code",
   "execution_count": 62,
   "metadata": {},
   "outputs": [],
   "source": [
    "docs = langchain_chroma.similarity_search_with_score(\"chromosome\")"
   ]
  },
  {
   "cell_type": "markdown",
   "metadata": {},
   "source": [
    "# We're ready to go"
   ]
  },
  {
   "cell_type": "code",
   "execution_count": 110,
   "metadata": {},
   "outputs": [],
   "source": [
    "from langchain.embeddings.openai import OpenAIEmbeddings\n",
    "from langchain.vectorstores import Chroma\n",
    "import chromadb\n",
    "import pandas as pd\n",
    "from tqdm import tqdm\n",
    "from langchain.callbacks import get_openai_callback"
   ]
  },
  {
   "cell_type": "code",
   "execution_count": 8,
   "metadata": {},
   "outputs": [
    {
     "data": {
      "text/plain": [
       "(5183, 5183, 370)"
      ]
     },
     "execution_count": 8,
     "metadata": {},
     "output_type": "execute_result"
    }
   ],
   "source": [
    "# Corpus\n",
    "corpus = pd.read_json(path_or_buf=\"data/corpus.jsonl\", lines=True)\n",
    "\n",
    "abstracts = list()\n",
    "for a in corpus[\"abstract\"]:\n",
    "    text = \"\"\n",
    "    for s in a:\n",
    "        text += s + \" \"\n",
    "    abstracts.append(text)\n",
    "\n",
    "# Testing Data\n",
    "train = pd.read_json(\"data/claims_train.jsonl\", lines=True)\n",
    "\n",
    "ids = list()\n",
    "banyak_kontra = 0\n",
    "for i in range(len(train)):\n",
    "    doc_ids = train[\"evidence\"].iloc[i].keys()\n",
    "\n",
    "    labels = list()\n",
    "    for evid in doc_ids:\n",
    "        for j in range(len(train[\"evidence\"].iloc[i][evid])):\n",
    "            l = train[\"evidence\"].iloc[i][evid][j][\"label\"]\n",
    "            labels.append(l)\n",
    "        \n",
    "        if \"CONTRADICT\" not in labels:\n",
    "            ids.append(i)\n",
    "        else:\n",
    "            banyak_kontra += 1\n",
    "\n",
    "benchmark_data = train.iloc[ids]\n",
    "\n",
    "len(corpus), len(abstracts), len(benchmark_data)"
   ]
  },
  {
   "cell_type": "code",
   "execution_count": 5,
   "metadata": {},
   "outputs": [],
   "source": [
    "# Vector Database (Chroma)\n",
    "chroma_client = chromadb.PersistentClient()\n",
    "collection = chroma_client.create_collection(name=\"scifact_benchmark\")"
   ]
  },
  {
   "cell_type": "code",
   "execution_count": 12,
   "metadata": {},
   "outputs": [
    {
     "data": {
      "text/plain": [
       "(5183,\n",
       " [{'doc_id': '4983',\n",
       "   'title': 'Microstructural development of human newborn cerebral white matter assessed in vivo by diffusion tensor magnetic resonance imaging.'},\n",
       "  {'doc_id': '5836',\n",
       "   'title': 'Induction of myelodysplasia by myeloid-derived suppressor cells.'}],\n",
       " ['abs0', 'abs1'])"
      ]
     },
     "execution_count": 12,
     "metadata": {},
     "output_type": "execute_result"
    }
   ],
   "source": [
    "# Upsert preparation\n",
    "embedder = OpenAIEmbeddings()\n",
    "\n",
    "metadatas = list()\n",
    "for i in range(len(corpus)):\n",
    "    metadatas.append({\n",
    "        \"doc_id\" : str(corpus[\"doc_id\"].iloc[i]),\n",
    "        \"title\": corpus[\"title\"].iloc[i]\n",
    "    })\n",
    "\n",
    "ids = [f\"abs{str(i)}\" for i in range(len(corpus))]\n",
    "len(metadatas), metadatas[:2], ids[:2]"
   ]
  },
  {
   "cell_type": "code",
   "execution_count": 13,
   "metadata": {},
   "outputs": [],
   "source": [
    "## DANGER\n",
    "# mahal bos\n",
    "embeddings = embedder.embed_documents(abstracts)"
   ]
  },
  {
   "cell_type": "code",
   "execution_count": 14,
   "metadata": {},
   "outputs": [],
   "source": [
    "collection.add(\n",
    "    embeddings=embeddings,\n",
    "    documents=abstracts,\n",
    "    metadatas=metadatas,\n",
    "    ids=ids\n",
    ")"
   ]
  },
  {
   "cell_type": "code",
   "execution_count": 16,
   "metadata": {},
   "outputs": [
    {
     "name": "stdout",
     "output_type": "stream",
     "text": [
      "There are 5183 in the collection\n"
     ]
    }
   ],
   "source": [
    "docsearch = Chroma(\n",
    "    client=chroma_client,\n",
    "    collection_name=\"scifact_benchmark\",\n",
    "    embedding_function=embedder,\n",
    ")\n",
    "print(\"There are\", docsearch._collection.count(), \"in the collection\")"
   ]
  },
  {
   "cell_type": "markdown",
   "metadata": {},
   "source": [
    "# Retrieval"
   ]
  },
  {
   "cell_type": "code",
   "execution_count": 67,
   "metadata": {},
   "outputs": [
    {
     "data": {
      "text/plain": [
       "('Energy balance requires hypothalamic glutamate neurotransmission.',\n",
       " [45154987, 10534299, 11886686, 25007443, 17150648])"
      ]
     },
     "execution_count": 67,
     "metadata": {},
     "output_type": "execute_result"
    }
   ],
   "source": [
    "id = 92\n",
    "claim = benchmark_data[\"claim\"].iloc[id]\n",
    "cited_docs = benchmark_data[\"cited_doc_ids\"].iloc[id]\n",
    "source = corpus[corpus[\"doc_id\"] == cited_docs[0]]\n",
    "\n",
    "claim, cited_docs"
   ]
  },
  {
   "cell_type": "code",
   "execution_count": 68,
   "metadata": {},
   "outputs": [
    {
     "data": {
      "text/html": [
       "<div>\n",
       "<style scoped>\n",
       "    .dataframe tbody tr th:only-of-type {\n",
       "        vertical-align: middle;\n",
       "    }\n",
       "\n",
       "    .dataframe tbody tr th {\n",
       "        vertical-align: top;\n",
       "    }\n",
       "\n",
       "    .dataframe thead th {\n",
       "        text-align: right;\n",
       "    }\n",
       "</style>\n",
       "<table border=\"1\" class=\"dataframe\">\n",
       "  <thead>\n",
       "    <tr style=\"text-align: right;\">\n",
       "      <th></th>\n",
       "      <th>doc_id</th>\n",
       "      <th>title</th>\n",
       "      <th>abstract</th>\n",
       "      <th>structured</th>\n",
       "    </tr>\n",
       "  </thead>\n",
       "  <tbody>\n",
       "    <tr>\n",
       "      <th>4946</th>\n",
       "      <td>45154987</td>\n",
       "      <td>Glutamate mediates the function of melanocorti...</td>\n",
       "      <td>[The melanocortin receptor 4 (MC4R) is a well-...</td>\n",
       "      <td>False</td>\n",
       "    </tr>\n",
       "  </tbody>\n",
       "</table>\n",
       "</div>"
      ],
      "text/plain": [
       "        doc_id                                              title  \\\n",
       "4946  45154987  Glutamate mediates the function of melanocorti...   \n",
       "\n",
       "                                               abstract  structured  \n",
       "4946  [The melanocortin receptor 4 (MC4R) is a well-...       False  "
      ]
     },
     "execution_count": 68,
     "metadata": {},
     "output_type": "execute_result"
    }
   ],
   "source": [
    "source"
   ]
  },
  {
   "cell_type": "code",
   "execution_count": 79,
   "metadata": {},
   "outputs": [
    {
     "data": {
      "text/plain": [
       "[2617858, 4387784, 11419230, 1744752, 12691537]"
      ]
     },
     "execution_count": 79,
     "metadata": {},
     "output_type": "execute_result"
    }
   ],
   "source": [
    "docs_retrieved = docsearch.similarity_search(claim, k=5)\n",
    "\n",
    "[int(doc.metadata[\"doc_id\"]) for doc in docs_retrieved]"
   ]
  },
  {
   "cell_type": "markdown",
   "metadata": {},
   "source": [
    "# Vanilla Retriever"
   ]
  },
  {
   "cell_type": "code",
   "execution_count": 138,
   "metadata": {},
   "outputs": [
    {
     "data": {
      "text/plain": [
       "100"
      ]
     },
     "execution_count": 138,
     "metadata": {},
     "output_type": "execute_result"
    }
   ],
   "source": [
    "benchmark_data = benchmark_data.reset_index(drop=True)\n",
    "benchmark_data = benchmark_data.iloc[:100]\n",
    "len(benchmark_data)"
   ]
  },
  {
   "cell_type": "code",
   "execution_count": 139,
   "metadata": {},
   "outputs": [
    {
     "name": "stderr",
     "output_type": "stream",
     "text": [
      "100%|██████████| 100/100 [00:35<00:00,  2.85it/s]\n"
     ]
    }
   ],
   "source": [
    "cited_true = list()\n",
    "cited_pred = list()\n",
    "for i in tqdm(range(len(benchmark_data))):\n",
    "    claim = benchmark_data[\"claim\"].iloc[i]\n",
    "    cited_docs = benchmark_data[\"cited_doc_ids\"].iloc[i]\n",
    "    cited_true.append(cited_docs)    \n",
    "    docs_retrieved = docsearch.similarity_search(claim, k=5)\n",
    "    cited_pred.append([int(doc.metadata[\"doc_id\"]) for doc in docs_retrieved])"
   ]
  },
  {
   "cell_type": "code",
   "execution_count": 140,
   "metadata": {},
   "outputs": [
    {
     "data": {
      "text/plain": [
       "90.10000000000002"
      ]
     },
     "execution_count": 140,
     "metadata": {},
     "output_type": "execute_result"
    }
   ],
   "source": [
    "def accuracy(cited_true, cited_pred):\n",
    "    accuracy = 0\n",
    "\n",
    "    for i in range(len(benchmark_data)):\n",
    "        accuracy_per_request = 0 \n",
    "\n",
    "        for j in range(len(cited_true[i])):\n",
    "            if cited_true[i][j] in cited_pred[i]:\n",
    "                accuracy_per_request += 1/len(cited_true[i])\n",
    "\n",
    "        accuracy += accuracy_per_request \n",
    "\n",
    "    accuracy = accuracy / len(benchmark_data) * 100\n",
    "\n",
    "    return accuracy\n",
    "\n",
    "accuracy(cited_true, cited_pred)"
   ]
  },
  {
   "cell_type": "markdown",
   "metadata": {},
   "source": [
    "# Self-query Retriever"
   ]
  },
  {
   "cell_type": "code",
   "execution_count": 122,
   "metadata": {},
   "outputs": [
    {
     "data": {
      "text/plain": [
       "Tokens Used: 1256\n",
       "\tPrompt Tokens: 1214\n",
       "\tCompletion Tokens: 42\n",
       "Successful Requests: 1\n",
       "Total Cost (USD): $0.02512"
      ]
     },
     "execution_count": 122,
     "metadata": {},
     "output_type": "execute_result"
    }
   ],
   "source": [
    "from langchain.chains.query_constructor.base import AttributeInfo\n",
    "from langchain.retrievers.self_query.base import SelfQueryRetriever\n",
    "from langchain.llms import OpenAI\n",
    "\n",
    "llm = OpenAI(temperature=0)\n",
    "\n",
    "document_content_description = \"Collection of scientific papers\"\n",
    "metadata_field_info = [\n",
    "    AttributeInfo(\n",
    "        name=\"doc_id\",\n",
    "        description=\"Document ID\",\n",
    "        type=\"string\"\n",
    "    ),\n",
    "    AttributeInfo(\n",
    "        name=\"title\",\n",
    "        description=\"Title of the scientific paper\",\n",
    "        type=\"string\"\n",
    "    )\n",
    "]\n",
    "\n",
    "retriever = SelfQueryRetriever.from_llm(\n",
    "    llm,\n",
    "    docsearch,\n",
    "    document_content_description,\n",
    "    metadata_field_info,\n",
    "    enable_limit=True\n",
    ")\n",
    "\n",
    "with get_openai_callback() as cb:\n",
    "    docs_retrieved = retriever.get_relevant_documents(claim, k=5)\n",
    "cb"
   ]
  },
  {
   "cell_type": "markdown",
   "metadata": {},
   "source": [
    "# MMR"
   ]
  },
  {
   "cell_type": "code",
   "execution_count": 141,
   "metadata": {},
   "outputs": [
    {
     "name": "stderr",
     "output_type": "stream",
     "text": [
      "100%|██████████| 100/100 [00:35<00:00,  2.85it/s]\n"
     ]
    }
   ],
   "source": [
    "retriever = docsearch.as_retriever(type=\"mmr\")\n",
    "\n",
    "cited_true = list()\n",
    "cited_pred = list()\n",
    "for i in tqdm(range(len(benchmark_data))):\n",
    "    claim = benchmark_data[\"claim\"].iloc[i]\n",
    "    cited_docs = benchmark_data[\"cited_doc_ids\"].iloc[i]\n",
    "    cited_true.append(cited_docs)    \n",
    "    docs_retrieved = retriever.get_relevant_documents(claim, k=5)\n",
    "    cited_pred.append([int(doc.metadata[\"doc_id\"]) for doc in docs_retrieved])"
   ]
  },
  {
   "cell_type": "code",
   "execution_count": 142,
   "metadata": {},
   "outputs": [
    {
     "data": {
      "text/plain": [
       "84.60000000000002"
      ]
     },
     "execution_count": 142,
     "metadata": {},
     "output_type": "execute_result"
    }
   ],
   "source": [
    "accuracy(cited_true, cited_pred)"
   ]
  },
  {
   "cell_type": "markdown",
   "metadata": {},
   "source": [
    "# Multi-query Retriever"
   ]
  },
  {
   "cell_type": "code",
   "execution_count": null,
   "metadata": {},
   "outputs": [],
   "source": [
    "from langchain.retrievers.multi_query import MultiQueryRetriever\n",
    "\n",
    "llm = OpenAI(model=\"babbage-002\")\n",
    "\n",
    "retriever_from_llm = MultiQueryRetriever.from_llm(\n",
    "    retriever=docsearch.as_retriever(), llm=llm\n",
    ")\n",
    "\n",
    "cited_true = list()\n",
    "cited_pred = list()\n",
    "\n",
    "with get_openai_callback() as cb:\n",
    "    for i in range(len(benchmark_data)):\n",
    "        print(i)\n",
    "        claim = benchmark_data[\"claim\"].iloc[i]\n",
    "        cited_docs = benchmark_data[\"cited_doc_ids\"].iloc[i]\n",
    "        cited_true.append(cited_docs)    \n",
    "        docs_retrieved = retriever_from_llm.get_relevant_documents(claim, k=5)\n",
    "        cited_pred.append([int(doc.metadata[\"doc_id\"]) for doc in docs_retrieved])\n",
    "        print(cb)\n",
    "        print()"
   ]
  },
  {
   "cell_type": "code",
   "execution_count": 152,
   "metadata": {},
   "outputs": [
    {
     "data": {
      "text/plain": [
       "79.60000000000002"
      ]
     },
     "execution_count": 152,
     "metadata": {},
     "output_type": "execute_result"
    }
   ],
   "source": [
    "accuracy(cited_true, cited_pred)"
   ]
  },
  {
   "cell_type": "code",
   "execution_count": null,
   "metadata": {},
   "outputs": [],
   "source": [
    "from langchain.retrievers.multi_query import MultiQueryRetriever\n",
    "\n",
    "llm = OpenAI(model=\"davinci-002\")\n",
    "\n",
    "retriever_from_llm = MultiQueryRetriever.from_llm(\n",
    "    retriever=docsearch.as_retriever(), llm=llm\n",
    ")\n",
    "\n",
    "cited_true = list()\n",
    "cited_pred = list()\n",
    "\n",
    "with get_openai_callback() as cb:\n",
    "    for i in range(len(benchmark_data)):\n",
    "        print(i)\n",
    "        claim = benchmark_data[\"claim\"].iloc[i]\n",
    "        cited_docs = benchmark_data[\"cited_doc_ids\"].iloc[i]\n",
    "        cited_true.append(cited_docs)    \n",
    "        docs_retrieved = retriever_from_llm.get_relevant_documents(claim, k=5)\n",
    "        cited_pred.append([int(doc.metadata[\"doc_id\"]) for doc in docs_retrieved])\n",
    "        print(cb.total_cost)\n",
    "        print()"
   ]
  },
  {
   "cell_type": "code",
   "execution_count": 155,
   "metadata": {},
   "outputs": [
    {
     "data": {
      "text/plain": [
       "78.36666666666669"
      ]
     },
     "execution_count": 155,
     "metadata": {},
     "output_type": "execute_result"
    }
   ],
   "source": [
    "accuracy(cited_true, cited_pred)"
   ]
  },
  {
   "cell_type": "markdown",
   "metadata": {},
   "source": [
    "# Contextual Compression"
   ]
  },
  {
   "cell_type": "code",
   "execution_count": null,
   "metadata": {},
   "outputs": [],
   "source": [
    "# Contextual Compression\n",
    "from langchain.retrievers import ContextualCompressionRetriever\n",
    "from langchain.retrievers.document_compressors import LLMChainExtractor\n",
    "\n",
    "import warnings\n",
    "warnings.filterwarnings(\"ignore\")\n",
    "\n",
    "llm = OpenAI(temperature=0, model=\"davinci-002\")\n",
    "\n",
    "compressor = LLMChainExtractor.from_llm(llm)\n",
    "compression_retriever = ContextualCompressionRetriever(base_compressor=compressor, base_retriever=docsearch.as_retriever())\n",
    "\n",
    "cited_true = list()\n",
    "cited_pred = list()\n",
    "\n",
    "with get_openai_callback() as cb:\n",
    "    for i in range(len(benchmark_data)):\n",
    "        print(i)\n",
    "        claim = benchmark_data[\"claim\"].iloc[i]\n",
    "        cited_docs = benchmark_data[\"cited_doc_ids\"].iloc[i]\n",
    "        cited_true.append(cited_docs)    \n",
    "        docs_retrieved = compression_retriever.get_relevant_documents(claim, k=5)\n",
    "        cited_pred.append([int(doc.metadata[\"doc_id\"]) for doc in docs_retrieved])\n",
    "        print(cb)\n",
    "        print()"
   ]
  },
  {
   "cell_type": "code",
   "execution_count": 158,
   "metadata": {},
   "outputs": [
    {
     "data": {
      "text/plain": [
       "84.60000000000002"
      ]
     },
     "execution_count": 158,
     "metadata": {},
     "output_type": "execute_result"
    }
   ],
   "source": [
    "accuracy(cited_true, cited_pred)"
   ]
  }
 ],
 "metadata": {
  "kernelspec": {
   "display_name": "chatbot",
   "language": "python",
   "name": "python3"
  },
  "language_info": {
   "codemirror_mode": {
    "name": "ipython",
    "version": 3
   },
   "file_extension": ".py",
   "mimetype": "text/x-python",
   "name": "python",
   "nbconvert_exporter": "python",
   "pygments_lexer": "ipython3",
   "version": "3.10.7"
  }
 },
 "nbformat": 4,
 "nbformat_minor": 2
}
